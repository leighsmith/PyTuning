{
 "cells": [
  {
   "cell_type": "markdown",
   "id": "c644ccf8-4f22-4e43-8763-abbbb4ea4b7b",
   "metadata": {},
   "source": [
    "# Scala File Reading Example\n",
    "This notebook demonstrates the use of the `Scale` class, and it's ability to import and export [Scala file format](https://www.huygens-fokker.org/scala/scl_format.html) files. "
   ]
  },
  {
   "cell_type": "code",
   "execution_count": null,
   "id": "30f11d3c-4854-4e6b-bcea-18adfab6d1a5",
   "metadata": {},
   "outputs": [],
   "source": [
    "import sympy as sp\n",
    "\n",
    "sp.init_printing(use_unicode=True)\n",
    "\n",
    "from IPython.display import display\n",
    "\n",
    "import pprint\n",
    "pp = pprint.PrettyPrinter(indent=2)\n",
    "\n",
    "from pytuning.tuning_tables.TuningTable import TuningTable"
   ]
  },
  {
   "cell_type": "code",
   "execution_count": null,
   "id": "523fd803-84b9-454f-811d-6c7df3ced90f",
   "metadata": {},
   "outputs": [],
   "source": [
    "tuning_table = TuningTable()"
   ]
  },
  {
   "cell_type": "code",
   "execution_count": null,
   "id": "db147d9d-f473-4bef-9cc4-894d49d8c39e",
   "metadata": {},
   "outputs": [],
   "source": [
    "tuning_table.read_scala_file('/Users/leigh/Sources/Music/Tuning/Scala/scl/arist_archenh.scl')"
   ]
  },
  {
   "cell_type": "code",
   "execution_count": null,
   "id": "0306f265-1ccc-48ca-9e33-774c6be62728",
   "metadata": {},
   "outputs": [],
   "source": [
    "tuning_table.description"
   ]
  },
  {
   "cell_type": "code",
   "execution_count": null,
   "id": "7d4fcf93-64cf-4663-a6ef-5656c917bb42",
   "metadata": {},
   "outputs": [],
   "source": [
    "tuning_table.scale"
   ]
  },
  {
   "cell_type": "code",
   "execution_count": null,
   "id": "10fc1ec1-2420-40f7-9623-21410c8a698d",
   "metadata": {},
   "outputs": [],
   "source": [
    "tuning_table"
   ]
  },
  {
   "cell_type": "code",
   "execution_count": null,
   "id": "1b921f55-edf9-4850-a1dc-82faf3264289",
   "metadata": {},
   "outputs": [],
   "source": [
    "tuning_table.read_scala_file('/Users/leigh/Sources/Music/Tuning/Scala/scl/ptolemy_diat.scl')"
   ]
  },
  {
   "cell_type": "code",
   "execution_count": null,
   "id": "fec45a70-1447-451c-bae1-dfcedc3f2855",
   "metadata": {},
   "outputs": [],
   "source": [
    "tuning_table.description"
   ]
  },
  {
   "cell_type": "code",
   "execution_count": null,
   "id": "b573e3cb-cdea-4fd7-8680-8e1a3f5497ea",
   "metadata": {},
   "outputs": [],
   "source": [
    "tuning_table.scale"
   ]
  },
  {
   "cell_type": "code",
   "execution_count": null,
   "id": "ce18a035-64ea-4b2d-b92e-8314fbea0c16",
   "metadata": {},
   "outputs": [],
   "source": [
    "[type(e) for e in tuning_table.scale]"
   ]
  },
  {
   "cell_type": "code",
   "execution_count": null,
   "id": "da183770-46e9-48f4-99ef-ee69de7c837b",
   "metadata": {},
   "outputs": [],
   "source": [
    "tuning_table"
   ]
  },
  {
   "cell_type": "code",
   "execution_count": null,
   "id": "03bd8d62-316d-4ff8-b9c5-6d55652c28d6",
   "metadata": {},
   "outputs": [],
   "source": [
    "tuning_table.write_file('/Users/leigh/test_output.scl', format = 'Scala')"
   ]
  },
  {
   "cell_type": "code",
   "execution_count": null,
   "id": "04be2f04-a983-49a5-af6d-9cdbf794c15c",
   "metadata": {},
   "outputs": [],
   "source": [
    "tuning_table.scale"
   ]
  }
 ],
 "metadata": {
  "kernelspec": {
   "display_name": "tuning",
   "language": "python",
   "name": "tuning"
  },
  "language_info": {
   "codemirror_mode": {
    "name": "ipython",
    "version": 3
   },
   "file_extension": ".py",
   "mimetype": "text/x-python",
   "name": "python",
   "nbconvert_exporter": "python",
   "pygments_lexer": "ipython3",
   "version": "3.9.11+"
  }
 },
 "nbformat": 4,
 "nbformat_minor": 5
}
