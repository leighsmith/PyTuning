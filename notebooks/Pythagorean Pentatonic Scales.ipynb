{
 "cells": [
  {
   "cell_type": "markdown",
   "metadata": {},
   "source": [
    "## Pythagorean Pentatonic Scales\n",
    "\n",
    "This is an example of using PyTuning in a Jupyter notebook environment. It is an exploration of\n",
    "possible pentatonic scales drawn from Pythagorean tuning.\n",
    "\n",
    "### Imports"
   ]
  },
  {
   "cell_type": "code",
   "execution_count": null,
   "metadata": {
    "jupyter": {
     "outputs_hidden": false
    }
   },
   "outputs": [],
   "source": [
    "from __future__ import division, print_function\n",
    "\n",
    "import matplotlib\n",
    "import matplotlib.pyplot as plt\n",
    "import seaborn as sns\n",
    "import numpy as np\n",
    "import sympy as sp\n",
    "\n",
    "from pytuning.scales.pythagorean import create_pythagorean_scale\n",
    "from pytuning.scales.edo import create_edo_scale\n",
    "from pytuning.utilities import ratio_to_cents, mask_scale, distinct_intervals, compare_two_scales, note_number_to_freq\n",
    "from pytuning.metrics import sum_p_q_for_all_intervals\n",
    "from pytuning.tuning_tables import create_scala_tuning, create_timidity_tuning\n",
    "from pytuning.scale_creation import find_best_modes\n",
    "from pytuning.visualizations import consonance_matrix\n",
    "\n",
    "%matplotlib inline\n",
    "sns.set()\n",
    "plt.ioff()\n",
    "\n",
    "sp.init_printing(use_unicode=True)\n",
    "\n",
    "from IPython.display import display\n",
    "\n",
    "import pprint\n",
    "pp = pprint.PrettyPrinter(indent=2)"
   ]
  },
  {
   "cell_type": "markdown",
   "metadata": {},
   "source": [
    "The Pythagorean scale is created by walking up a circle of perfect fifths. However, one can also move *down* a fourth, and this creates some ambiguity to what the scale is. So, for example, if we just use up fifths:"
   ]
  },
  {
   "cell_type": "code",
   "execution_count": null,
   "metadata": {
    "jupyter": {
     "outputs_hidden": false
    }
   },
   "outputs": [],
   "source": [
    "scale = create_pythagorean_scale(number_down_fifths=0)\n",
    "scale"
   ]
  },
  {
   "cell_type": "markdown",
   "metadata": {},
   "source": [
    "On the other hand, if we just use *down* fifths:"
   ]
  },
  {
   "cell_type": "code",
   "execution_count": null,
   "metadata": {
    "jupyter": {
     "outputs_hidden": false
    }
   },
   "outputs": [],
   "source": [
    "scale = create_pythagorean_scale(number_down_fifths=11)\n",
    "scale"
   ]
  },
  {
   "cell_type": "markdown",
   "metadata": {},
   "source": [
    "(In the Wikipedia article the scale presented looks like):"
   ]
  },
  {
   "cell_type": "code",
   "execution_count": null,
   "metadata": {
    "jupyter": {
     "outputs_hidden": false
    }
   },
   "outputs": [],
   "source": [
    "create_pythagorean_scale(scale_size=13, number_down_fifths=6)"
   ]
  },
  {
   "cell_type": "markdown",
   "metadata": {},
   "source": [
    "(with both the augmented fourth and diminished fifth, which is why we set scale_size to 13.)"
   ]
  },
  {
   "cell_type": "markdown",
   "metadata": {},
   "source": [
    "### The difference between up and down\n",
    "\n",
    "Let's take a look at the two extremes, and see how much they differ"
   ]
  },
  {
   "cell_type": "code",
   "execution_count": null,
   "metadata": {
    "jupyter": {
     "outputs_hidden": false
    }
   },
   "outputs": [],
   "source": [
    "up_scale   = create_pythagorean_scale(number_down_fifths=0)\n",
    "down_scale = create_pythagorean_scale(number_down_fifths=11)\n",
    "display(up_scale)\n",
    "display(down_scale)"
   ]
  },
  {
   "cell_type": "markdown",
   "metadata": {},
   "source": [
    "Looking at the differences in the degrees, we see that all degrees differ from their siblings by the\n",
    "same amount:"
   ]
  },
  {
   "cell_type": "code",
   "execution_count": null,
   "metadata": {
    "jupyter": {
     "outputs_hidden": false
    }
   },
   "outputs": [],
   "source": [
    "pp.pprint([ratio_to_cents(x) for x in np.array(up_scale) / np.array(down_scale)])"
   ]
  },
  {
   "cell_type": "code",
   "execution_count": null,
   "metadata": {},
   "outputs": [],
   "source": [
    "np.array(up_scale)"
   ]
  },
  {
   "cell_type": "markdown",
   "metadata": {},
   "source": [
    "Rationally, this is $\\frac{531441}{524288}$):"
   ]
  },
  {
   "cell_type": "code",
   "execution_count": null,
   "metadata": {
    "jupyter": {
     "outputs_hidden": false
    }
   },
   "outputs": [],
   "source": [
    "display([x for x in np.array(up_scale) / np.array(down_scale)])"
   ]
  },
  {
   "cell_type": "markdown",
   "metadata": {},
   "source": [
    "(or, as a ratio:)"
   ]
  },
  {
   "cell_type": "code",
   "execution_count": null,
   "metadata": {
    "jupyter": {
     "outputs_hidden": false
    }
   },
   "outputs": [],
   "source": [
    "sp.Rational(531441,524288).evalf()"
   ]
  },
  {
   "cell_type": "markdown",
   "metadata": {},
   "source": [
    "Looking at it this way, we have 12 different scales:"
   ]
  },
  {
   "cell_type": "code",
   "execution_count": null,
   "metadata": {
    "jupyter": {
     "outputs_hidden": false
    }
   },
   "outputs": [],
   "source": [
    "for x in range(12):\n",
    "    display(create_pythagorean_scale(number_down_fifths=x))"
   ]
  },
  {
   "cell_type": "markdown",
   "metadata": {},
   "source": [
    "### Consonance\n",
    "\n",
    "Let's see if these scales vary in dissonance. For this we'll use the `sum_p_q_for_all_intervals` metric.\n",
    "\n",
    "To find out we'll create `dict`, with the key as the number of down-facing fifths, and the value\n",
    "the actual scale:"
   ]
  },
  {
   "cell_type": "code",
   "execution_count": null,
   "metadata": {
    "tags": []
   },
   "outputs": [],
   "source": [
    "pythag_dict = {}\n",
    "for x in range(12):\n",
    "    pythag_dict[x] =  create_pythagorean_scale(number_down_fifths=x)"
   ]
  },
  {
   "cell_type": "code",
   "execution_count": null,
   "metadata": {
    "jupyter": {
     "outputs_hidden": false
    }
   },
   "outputs": [],
   "source": [
    "pythag_dict"
   ]
  },
  {
   "cell_type": "markdown",
   "metadata": {},
   "source": [
    "Now map the metric"
   ]
  },
  {
   "cell_type": "code",
   "execution_count": null,
   "metadata": {
    "jupyter": {
     "outputs_hidden": false
    }
   },
   "outputs": [],
   "source": [
    "for key in pythag_dict:\n",
    "    pythag_dict[key] = list(sum_p_q_for_all_intervals(pythag_dict[key]).values())[0]\n",
    "    \n",
    "pp.pprint(pythag_dict)"
   ]
  },
  {
   "cell_type": "markdown",
   "metadata": {},
   "source": [
    "They all have the same rating.\n",
    "\n",
    "But what happens if we just examine a single mode, say, one of the pentatonic scales? Let's take the Major\n",
    "Pentatonic:\n",
    "\n",
    "$$\n",
    "\\left[ 2, 2, 3, 2, 3 \\right]\n",
    "$$\n",
    "\n",
    "and see.\n",
    "\n",
    "Note that we hash the mode mask against all the possible Pythagorean scales, and because we're only taking\n",
    "selected notes, we can at times have repetitions. The following function strips out those repetitions\n",
    "(mode scales which are the same owing to the fact that there are no differences in the set of selected\n",
    "tones):"
   ]
  },
  {
   "cell_type": "code",
   "execution_count": null,
   "metadata": {
    "tags": []
   },
   "outputs": [],
   "source": [
    "def calculate_metric_with_mask(mask):\n",
    "    all_scales = []\n",
    "    pythag_dict = {}\n",
    "    for x in range(12):\n",
    "        try_scale = mask_scale(create_pythagorean_scale(number_down_fifths=x), mask)\n",
    "        if try_scale not in all_scales:\n",
    "            pythag_dict[x] =  try_scale\n",
    "            all_scales.append(try_scale)\n",
    "\n",
    "    metric_dict = {}\n",
    "    for key in pythag_dict:\n",
    "        metric_dict[key] = list(sum_p_q_for_all_intervals(pythag_dict[key]).values())[0]\n",
    "\n",
    "    return pythag_dict, metric_dict"
   ]
  },
  {
   "cell_type": "code",
   "execution_count": null,
   "metadata": {
    "jupyter": {
     "outputs_hidden": false
    }
   },
   "outputs": [],
   "source": [
    "major_pentatonic_mask = (0,2,4,7,9,12)\n",
    "scales, metrics = calculate_metric_with_mask(major_pentatonic_mask)\n",
    "display(scales)\n",
    "display(metrics)"
   ]
  },
  {
   "cell_type": "markdown",
   "metadata": {},
   "source": [
    "The metric is smallest for scale 0:"
   ]
  },
  {
   "cell_type": "code",
   "execution_count": null,
   "metadata": {
    "jupyter": {
     "outputs_hidden": false
    }
   },
   "outputs": [],
   "source": [
    "scales[0]"
   ]
  },
  {
   "cell_type": "markdown",
   "metadata": {},
   "source": [
    "This is without doubt the one that the standard would produce:"
   ]
  },
  {
   "cell_type": "code",
   "execution_count": null,
   "metadata": {
    "jupyter": {
     "outputs_hidden": false
    }
   },
   "outputs": [],
   "source": [
    "mask_scale(create_pythagorean_scale(), major_pentatonic_mask)"
   ]
  },
  {
   "cell_type": "markdown",
   "metadata": {},
   "source": [
    "Let's try the same thing with the Minor pentatonic scale:\n",
    "\n",
    "$$\n",
    "\\left[ 3, 2, 2, 3, 2 \\right]\n",
    "$$"
   ]
  },
  {
   "cell_type": "code",
   "execution_count": null,
   "metadata": {
    "jupyter": {
     "outputs_hidden": false
    }
   },
   "outputs": [],
   "source": [
    "minor_pentatonic_mask = (0,3,5,7,10,12)\n",
    "scales, metrics       = calculate_metric_with_mask(minor_pentatonic_mask)\n",
    "display(scales)\n",
    "display(metrics)"
   ]
  },
  {
   "cell_type": "markdown",
   "metadata": {},
   "source": [
    "Minimized for 3:"
   ]
  },
  {
   "cell_type": "code",
   "execution_count": null,
   "metadata": {
    "jupyter": {
     "outputs_hidden": false
    }
   },
   "outputs": [],
   "source": [
    "scales[3]"
   ]
  },
  {
   "cell_type": "markdown",
   "metadata": {},
   "source": [
    "Again, the standard tuning:"
   ]
  },
  {
   "cell_type": "code",
   "execution_count": null,
   "metadata": {
    "jupyter": {
     "outputs_hidden": false
    }
   },
   "outputs": [],
   "source": [
    "mask_scale(create_pythagorean_scale(), minor_pentatonic_mask)"
   ]
  },
  {
   "cell_type": "markdown",
   "metadata": {},
   "source": [
    "Interestingly, both the minor and major scale have the same set of distinct intervals (which explains why the\n",
    "metric was the same value):"
   ]
  },
  {
   "cell_type": "code",
   "execution_count": null,
   "metadata": {
    "jupyter": {
     "outputs_hidden": false
    }
   },
   "outputs": [],
   "source": [
    "minor_pent = mask_scale(create_pythagorean_scale(), minor_pentatonic_mask)\n",
    "major_pent = mask_scale(create_pythagorean_scale(), major_pentatonic_mask)\n",
    "display(sorted(distinct_intervals(minor_pent)))\n",
    "display(sorted(distinct_intervals(major_pent)))"
   ]
  },
  {
   "cell_type": "markdown",
   "metadata": {},
   "source": [
    "### Comparison with 12-EDO\n",
    "\n",
    "Let's compare these with the 12-TET equivalents"
   ]
  },
  {
   "cell_type": "code",
   "execution_count": null,
   "metadata": {
    "jupyter": {
     "outputs_hidden": false
    }
   },
   "outputs": [],
   "source": [
    "major_edo = mask_scale(create_edo_scale(12), major_pentatonic_mask)\n",
    "minor_edo = mask_scale(create_edo_scale(12), minor_pentatonic_mask)\n",
    "display(major_edo)\n",
    "display(minor_edo)"
   ]
  },
  {
   "cell_type": "code",
   "execution_count": null,
   "metadata": {
    "jupyter": {
     "outputs_hidden": false
    }
   },
   "outputs": [],
   "source": [
    "print(compare_two_scales(minor_edo, minor_pent, title=['Minor EDO', 'Minor Pythagorean']))\n",
    "print()\n",
    "print(compare_two_scales(major_edo, major_pent, title=['Major EDO', 'Major Pythagorean']))"
   ]
  },
  {
   "cell_type": "markdown",
   "metadata": {},
   "source": [
    "### Which Pentatonic Scales Sounds the Best?\n",
    "\n",
    "Let's take the standard Pythagorean scale and perform a consonance search.\n",
    "\n",
    "We'll use `find_best_modes()` and select five tones. We'll also set `num_scales` to `None` so that\n",
    "all scales will be returned."
   ]
  },
  {
   "cell_type": "code",
   "execution_count": null,
   "metadata": {
    "jupyter": {
     "outputs_hidden": false
    }
   },
   "outputs": [],
   "source": [
    "standard_pythag = create_pythagorean_scale()\n",
    "mode_objects = find_best_modes(standard_pythag, 5, ['sum_p_q_for_all_intervals'], num_scales=None,\n",
    "                              metric_function=sum_p_q_for_all_intervals)"
   ]
  },
  {
   "cell_type": "code",
   "execution_count": null,
   "metadata": {
    "jupyter": {
     "outputs_hidden": false
    }
   },
   "outputs": [],
   "source": [
    "display(mode_objects[0]['scale'])"
   ]
  },
  {
   "cell_type": "markdown",
   "metadata": {},
   "source": [
    ".... which looks a lot like the major pentatonic:"
   ]
  },
  {
   "cell_type": "code",
   "execution_count": null,
   "metadata": {
    "jupyter": {
     "outputs_hidden": false
    }
   },
   "outputs": [],
   "source": [
    "display(major_pent)"
   ]
  },
  {
   "cell_type": "markdown",
   "metadata": {},
   "source": [
    "Let's look at the top few scales, to see if the minor is up there too...."
   ]
  },
  {
   "cell_type": "code",
   "execution_count": null,
   "metadata": {
    "jupyter": {
     "outputs_hidden": false
    }
   },
   "outputs": [],
   "source": [
    "top_scales = [ x['scale'] for x in mode_objects][:5]\n",
    "for s in top_scales:\n",
    "    display(s)"
   ]
  },
  {
   "cell_type": "markdown",
   "metadata": {},
   "source": [
    "It's number 4 on the list:"
   ]
  },
  {
   "cell_type": "code",
   "execution_count": null,
   "metadata": {
    "jupyter": {
     "outputs_hidden": false
    }
   },
   "outputs": [],
   "source": [
    "display(minor_pent)\n",
    "display(mode_objects[3]['scale'])"
   ]
  },
  {
   "cell_type": "markdown",
   "metadata": {},
   "source": [
    "But this is a bit misleading, as if we actually look at the scores, you'll see that the top five all have \n",
    "the same score:"
   ]
  },
  {
   "cell_type": "code",
   "execution_count": null,
   "metadata": {
    "jupyter": {
     "outputs_hidden": false
    }
   },
   "outputs": [],
   "source": [
    "display([x['sum_p_q_for_all_intervals'] for x in mode_objects][:26])"
   ]
  },
  {
   "cell_type": "markdown",
   "metadata": {},
   "source": [
    "Thus by this metric the following scales are all equivalently \"good\":"
   ]
  },
  {
   "cell_type": "code",
   "execution_count": null,
   "metadata": {
    "jupyter": {
     "outputs_hidden": false
    }
   },
   "outputs": [],
   "source": [
    "for x in range(5):\n",
    "    display(mode_objects[x]['scale'])"
   ]
  },
  {
   "cell_type": "markdown",
   "metadata": {},
   "source": [
    "Let's do a visualization of of one of the scale, the last one, for example:"
   ]
  },
  {
   "cell_type": "code",
   "execution_count": null,
   "metadata": {
    "jupyter": {
     "outputs_hidden": false
    }
   },
   "outputs": [],
   "source": [
    "consonance_matrix(mode_objects[4]['scale'])"
   ]
  },
  {
   "cell_type": "markdown",
   "metadata": {},
   "source": [
    "Interestingly, the scale patterns (the steps between adjacent degrees) for all five of these scales are\n",
    "rotational permutations of one another:"
   ]
  },
  {
   "cell_type": "code",
   "execution_count": null,
   "metadata": {
    "jupyter": {
     "outputs_hidden": false
    }
   },
   "outputs": [],
   "source": [
    "for x in range(5):\n",
    "    display(mode_objects[x]['steps'])"
   ]
  },
  {
   "cell_type": "markdown",
   "metadata": {},
   "source": [
    "But owing to the fact that the scale itself is not equally tempered, the scales themselves are *not*.\n",
    "\n",
    "If you wanted to open things up a bit, the next five have the same value too. (Note that including\n",
    "10 scales in the list is somewhat arbitrary: the first five have the same metric, but the next *20* are\n",
    "grouped together. Just taking 5 out of the 20 is arbitrary.)\n",
    "\n",
    "So, the top 10 scales -- the first five of which fall into a consonance group, the second of which fall into their own group:"
   ]
  },
  {
   "cell_type": "code",
   "execution_count": null,
   "metadata": {
    "jupyter": {
     "outputs_hidden": false
    }
   },
   "outputs": [],
   "source": [
    "for x in range(10):\n",
    "    display(mode_objects[x]['scale'])"
   ]
  },
  {
   "cell_type": "markdown",
   "metadata": {},
   "source": [
    "### Tuning\n",
    "\n",
    "For working with these tunings, the following function will take an index into the `mode_objects` data\n",
    "structure and display several different tuning files for the resultant scale:"
   ]
  },
  {
   "cell_type": "code",
   "execution_count": null,
   "metadata": {
    "jupyter": {
     "outputs_hidden": false
    }
   },
   "outputs": [],
   "source": [
    "def create_tunings(index, mode_objects = mode_objects, reference_note = 69):\n",
    "    reference_frequency = note_number_to_freq(reference_note, create_edo_scale(12))\n",
    "    steps               = mode_objects[index]['steps']\n",
    "    scale               = mode_objects[index]['scale']\n",
    "    original_scale      = mode_objects[index]['original_scale']\n",
    "    mode_steps          = mode_objects[index]['steps']\n",
    "    mask                = mode_objects[index]['mask']\n",
    "    metric               = mode_objects[index]['sum_p_q_for_all_intervals']\n",
    "    em_spec = \"set scale \"  + str(tuple(mode_objects[10]['steps'])) + \" %d\" % reference_note\n",
    "    timidity = create_timidity_tuning(scale, reference_note)\n",
    "    \n",
    "    print(\"*******************\")\n",
    "    print(\"Summary Information\")\n",
    "    print(\"*******************\")\n",
    "    print(\"Reference Note:      %d\" % reference_note)\n",
    "    print(\"Reference Frequency: %f\" % reference_frequency)\n",
    "    print(\"Metric:              %d\" % metric)\n",
    "    print(\"Mode Steps:          %s\" % str(mode_steps))\n",
    "    print(\"Mode Mask:           %s\" % str(mask))\n",
    "    print(\"\")\n",
    "    print(\"********\")\n",
    "    print(\"Tunings\")\n",
    "    print(\"********\")\n",
    "    \n",
    "    print(\"\\n***Emergent Tuning***\\n\")\n",
    "    print(em_spec)\n",
    "    print(\"\\n***Scala Tuning***\\n\")\n",
    "    print(create_scala_tuning(original_scale, \"Pentatonic %d\" % index))\n",
    "    print(\"\\n***Timidity Tuning***\\n\")\n",
    "    print(timidity)\n",
    "    "
   ]
  },
  {
   "cell_type": "markdown",
   "metadata": {},
   "source": [
    "As an example, the 10th scale, referenced to C = 261.6 Hz:"
   ]
  },
  {
   "cell_type": "code",
   "execution_count": null,
   "metadata": {
    "jupyter": {
     "outputs_hidden": false
    }
   },
   "outputs": [],
   "source": [
    "create_tunings(9, reference_note=60)"
   ]
  },
  {
   "cell_type": "code",
   "execution_count": null,
   "metadata": {},
   "outputs": [],
   "source": []
  }
 ],
 "metadata": {
  "anaconda-cloud": {},
  "kernelspec": {
   "display_name": "tuning",
   "language": "python",
   "name": "tuning"
  },
  "language_info": {
   "codemirror_mode": {
    "name": "ipython",
    "version": 3
   },
   "file_extension": ".py",
   "mimetype": "text/x-python",
   "name": "python",
   "nbconvert_exporter": "python",
   "pygments_lexer": "ipython3",
   "version": "3.9.11+"
  }
 },
 "nbformat": 4,
 "nbformat_minor": 4
}
