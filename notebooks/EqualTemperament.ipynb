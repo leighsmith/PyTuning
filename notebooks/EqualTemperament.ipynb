{
 "cells": [
  {
   "cell_type": "markdown",
   "id": "4a49daf7-5a8d-4995-8b24-c9f687691c3a",
   "metadata": {},
   "source": [
    "# Equal Temperament Scales\n",
    "Examples of common equal tempered scales > 12TET, demonstrating the use of the `TuningTable` class."
   ]
  },
  {
   "cell_type": "code",
   "execution_count": null,
   "id": "1103afa2-bc8f-41f5-aa9c-80f063cae5f3",
   "metadata": {},
   "outputs": [],
   "source": [
    "import sympy as sp\n",
    "\n",
    "sp.init_printing(use_unicode=True)\n",
    "\n",
    "from IPython.display import display\n",
    "\n",
    "import pprint\n",
    "pp = pprint.PrettyPrinter(indent=2)\n",
    "\n",
    "from pytuning.scales.edo import create_edo_scale\n",
    "from pytuning.tuning_tables.TuningTable import TuningTable"
   ]
  },
  {
   "cell_type": "code",
   "execution_count": null,
   "id": "e02723d2-8168-4bea-9ea7-5825b6e458a3",
   "metadata": {},
   "outputs": [],
   "source": [
    "scale_19tet = create_edo_scale(19)"
   ]
  },
  {
   "cell_type": "code",
   "execution_count": null,
   "id": "d238db1d-b504-478b-a96e-4e45a86f1a3c",
   "metadata": {},
   "outputs": [],
   "source": [
    "scale_19tet"
   ]
  },
  {
   "cell_type": "code",
   "execution_count": null,
   "id": "abb8b02e-8649-456a-9896-001547ff8d90",
   "metadata": {},
   "outputs": [],
   "source": [
    "tuning_table = TuningTable(scale = scale_19tet, description = \"19 TET, full scale\", reference_note = 60, reference_frequency = 261.626)"
   ]
  },
  {
   "cell_type": "code",
   "execution_count": null,
   "id": "9a567f26-3623-4a8d-9448-542e4a32ae1d",
   "metadata": {},
   "outputs": [],
   "source": [
    "tuning_table"
   ]
  },
  {
   "cell_type": "code",
   "execution_count": null,
   "id": "93fd19be-856c-4988-a317-39b614bf36dd",
   "metadata": {},
   "outputs": [],
   "source": [
    "tuning_table.reference_frequency"
   ]
  },
  {
   "cell_type": "code",
   "execution_count": null,
   "id": "963d9f4f-9657-41b2-89fc-dc4eb9b536f6",
   "metadata": {},
   "outputs": [],
   "source": [
    "tuning_table.write_file(\"/Users/leigh/Sources/Music/Tuning/19tet.scl\", format = 'Scala', keyboard_file_path = '/Users/leigh/Sources/Music/Tuning/19tet.kbm')"
   ]
  },
  {
   "cell_type": "code",
   "execution_count": null,
   "id": "315d50a6-b7df-4347-ae5e-58eae7fb74a2",
   "metadata": {},
   "outputs": [],
   "source": [
    "tuning_table = TuningTable(scale = create_edo_scale(31), description = \"31 TET, full scale\", reference_note = 60, reference_frequency = 261.626)"
   ]
  },
  {
   "cell_type": "code",
   "execution_count": null,
   "id": "068c8319-0891-4b39-8d3e-ac9a0e99530b",
   "metadata": {},
   "outputs": [],
   "source": [
    "tuning_table.write_file(\"/Users/leigh/Sources/Music/Tuning/31tet.scl\", format = 'Scala', keyboard_file_path = '/Users/leigh/Sources/Music/Tuning/31tet.kbm')"
   ]
  },
  {
   "cell_type": "code",
   "execution_count": null,
   "id": "a4393151-b0c6-4e0c-b324-3cf108d933d8",
   "metadata": {},
   "outputs": [],
   "source": []
  }
 ],
 "metadata": {
  "kernelspec": {
   "display_name": "tuning",
   "language": "python",
   "name": "tuning"
  },
  "language_info": {
   "codemirror_mode": {
    "name": "ipython",
    "version": 3
   },
   "file_extension": ".py",
   "mimetype": "text/x-python",
   "name": "python",
   "nbconvert_exporter": "python",
   "pygments_lexer": "ipython3",
   "version": "3.9.11+"
  }
 },
 "nbformat": 4,
 "nbformat_minor": 5
}
